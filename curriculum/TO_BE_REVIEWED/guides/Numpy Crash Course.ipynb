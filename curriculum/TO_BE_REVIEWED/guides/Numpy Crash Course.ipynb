{
 "cells": [
  {
   "cell_type": "code",
   "execution_count": 13,
   "metadata": {},
   "outputs": [
    {
     "name": "stdout",
     "output_type": "stream",
     "text": [
      "Requirement already satisfied: numpy in /Users/nicholasrenotte/opt/anaconda3/lib/python3.7/site-packages (1.17.2)\r\n"
     ]
    }
   ],
   "source": [
    "!pip install numpy"
   ]
  },
  {
   "cell_type": "code",
   "execution_count": 14,
   "metadata": {},
   "outputs": [],
   "source": [
    "import numpy as np"
   ]
  },
  {
   "cell_type": "markdown",
   "metadata": {},
   "source": [
    "# 1. Create"
   ]
  },
  {
   "cell_type": "code",
   "execution_count": 15,
   "metadata": {},
   "outputs": [],
   "source": [
    "data = np.random.rand(2,3,4)\n",
    "zeroes = np.zeros((2,2,2))\n",
    "full = np.full((2,2,2), 7)\n",
    "ones = np.ones((2,2,2))"
   ]
  },
  {
   "cell_type": "code",
   "execution_count": 16,
   "metadata": {},
   "outputs": [
    {
     "data": {
      "text/plain": [
       "array([[[0.48003108, 0.44146385, 0.80173342, 0.36955555],\n",
       "        [0.36791853, 0.96672089, 0.02690897, 0.05000183],\n",
       "        [0.51120249, 0.09960263, 0.78821282, 0.85545042]],\n",
       "\n",
       "       [[0.67808393, 0.46217333, 0.80645816, 0.93515466],\n",
       "        [0.92385328, 0.04500892, 0.83364112, 0.94561375],\n",
       "        [0.356634  , 0.83439379, 0.82842758, 0.48934849]]])"
      ]
     },
     "execution_count": 16,
     "metadata": {},
     "output_type": "execute_result"
    }
   ],
   "source": [
    "data"
   ]
  },
  {
   "cell_type": "code",
   "execution_count": 19,
   "metadata": {},
   "outputs": [
    {
     "data": {
      "text/plain": [
       "array([[[1., 1.],\n",
       "        [1., 1.]],\n",
       "\n",
       "       [[1., 1.],\n",
       "        [1., 1.]]])"
      ]
     },
     "execution_count": 19,
     "metadata": {},
     "output_type": "execute_result"
    }
   ],
   "source": [
    "ones"
   ]
  },
  {
   "cell_type": "code",
   "execution_count": 20,
   "metadata": {},
   "outputs": [],
   "source": [
    "arr = np.array([[1,2,3,4],[1,2,3,4]])"
   ]
  },
  {
   "cell_type": "code",
   "execution_count": 22,
   "metadata": {},
   "outputs": [
    {
     "data": {
      "text/plain": [
       "numpy.ndarray"
      ]
     },
     "execution_count": 22,
     "metadata": {},
     "output_type": "execute_result"
    }
   ],
   "source": [
    "type(arr)"
   ]
  },
  {
   "cell_type": "code",
   "execution_count": null,
   "metadata": {},
   "outputs": [],
   "source": []
  },
  {
   "cell_type": "markdown",
   "metadata": {},
   "source": [
    "# 2. Read"
   ]
  },
  {
   "cell_type": "code",
   "execution_count": 23,
   "metadata": {},
   "outputs": [],
   "source": [
    "# Attributes\n",
    "shape = data.shape\n",
    "size = data.size\n",
    "types = data.dtype"
   ]
  },
  {
   "cell_type": "code",
   "execution_count": 26,
   "metadata": {},
   "outputs": [
    {
     "data": {
      "text/plain": [
       "dtype('float64')"
      ]
     },
     "execution_count": 26,
     "metadata": {},
     "output_type": "execute_result"
    }
   ],
   "source": [
    "types"
   ]
  },
  {
   "cell_type": "code",
   "execution_count": 31,
   "metadata": {},
   "outputs": [],
   "source": [
    "# Slicing\n",
    "arr = data[0]\n",
    "slicer = data[0][0:2]\n",
    "reverse = data[-1]\n",
    "singleval = data[0][0][0]"
   ]
  },
  {
   "cell_type": "code",
   "execution_count": 34,
   "metadata": {},
   "outputs": [
    {
     "data": {
      "text/plain": [
       "0.480031081005698"
      ]
     },
     "execution_count": 34,
     "metadata": {},
     "output_type": "execute_result"
    }
   ],
   "source": [
    "singleval"
   ]
  },
  {
   "cell_type": "code",
   "execution_count": 35,
   "metadata": {},
   "outputs": [
    {
     "data": {
      "text/plain": [
       "array([[[0.48003108, 0.44146385, 0.80173342, 0.36955555],\n",
       "        [0.36791853, 0.96672089, 0.02690897, 0.05000183],\n",
       "        [0.51120249, 0.09960263, 0.78821282, 0.85545042]],\n",
       "\n",
       "       [[0.67808393, 0.46217333, 0.80645816, 0.93515466],\n",
       "        [0.92385328, 0.04500892, 0.83364112, 0.94561375],\n",
       "        [0.356634  , 0.83439379, 0.82842758, 0.48934849]]])"
      ]
     },
     "execution_count": 35,
     "metadata": {},
     "output_type": "execute_result"
    }
   ],
   "source": [
    "data"
   ]
  },
  {
   "cell_type": "markdown",
   "metadata": {},
   "source": [
    "# 3. Update"
   ]
  },
  {
   "cell_type": "code",
   "execution_count": 36,
   "metadata": {},
   "outputs": [],
   "source": [
    "list1 = np.random.rand(10) \n",
    "list2 = np.random.rand(10) "
   ]
  },
  {
   "cell_type": "code",
   "execution_count": 38,
   "metadata": {},
   "outputs": [
    {
     "data": {
      "text/plain": [
       "array([0.38704184, 0.53632305, 0.9944246 , 0.44505152, 0.64292829,\n",
       "       0.30036371, 0.62623128, 0.98110138, 0.24716036, 0.10309413])"
      ]
     },
     "execution_count": 38,
     "metadata": {},
     "output_type": "execute_result"
    }
   ],
   "source": [
    "list2"
   ]
  },
  {
   "cell_type": "code",
   "execution_count": 39,
   "metadata": {},
   "outputs": [],
   "source": [
    "# Basic Math\n",
    "add = np.add(list1, list2)\n",
    "sub = np.subtract(list1, list2)\n",
    "div = np.divide(list1, list2)\n",
    "mult = np.multiply(list1, list2)\n",
    "dot = np.dot(list1, list2)"
   ]
  },
  {
   "cell_type": "code",
   "execution_count": 45,
   "metadata": {},
   "outputs": [
    {
     "data": {
      "text/plain": [
       "2.9501773252530117"
      ]
     },
     "execution_count": 45,
     "metadata": {},
     "output_type": "execute_result"
    }
   ],
   "source": [
    "dot"
   ]
  },
  {
   "cell_type": "code",
   "execution_count": 47,
   "metadata": {},
   "outputs": [],
   "source": [
    "# Stat Functions\n",
    "sqrt = np.sqrt(25)\n",
    "ab = np.abs(-2)\n",
    "power = np.power(2,7)\n",
    "log = np.log(25)\n",
    "exp = np.exp([2,3])\n",
    "mins = np.min(list1)\n",
    "maxs = np.max(list1)"
   ]
  },
  {
   "cell_type": "code",
   "execution_count": 56,
   "metadata": {},
   "outputs": [
    {
     "data": {
      "text/plain": [
       "0.9300368518784375"
      ]
     },
     "execution_count": 56,
     "metadata": {},
     "output_type": "execute_result"
    }
   ],
   "source": [
    "maxs"
   ]
  },
  {
   "cell_type": "code",
   "execution_count": 57,
   "metadata": {},
   "outputs": [
    {
     "data": {
      "text/plain": [
       "array([[[0.48003108, 0.44146385, 0.80173342, 0.36955555],\n",
       "        [0.36791853, 0.96672089, 0.02690897, 0.05000183],\n",
       "        [0.51120249, 0.09960263, 0.78821282, 0.85545042]],\n",
       "\n",
       "       [[0.67808393, 0.46217333, 0.80645816, 0.93515466],\n",
       "        [0.92385328, 0.04500892, 0.83364112, 0.94561375],\n",
       "        [0.356634  , 0.83439379, 0.82842758, 0.48934849]]])"
      ]
     },
     "execution_count": 57,
     "metadata": {},
     "output_type": "execute_result"
    }
   ],
   "source": [
    "data"
   ]
  },
  {
   "cell_type": "code",
   "execution_count": 59,
   "metadata": {},
   "outputs": [],
   "source": [
    "data[0][0][0] = 700"
   ]
  },
  {
   "cell_type": "code",
   "execution_count": 60,
   "metadata": {},
   "outputs": [
    {
     "data": {
      "text/plain": [
       "array([[[7.00000000e+02, 4.41463849e-01, 8.01733417e-01, 3.69555550e-01],\n",
       "        [3.67918528e-01, 9.66720888e-01, 2.69089716e-02, 5.00018320e-02],\n",
       "        [5.11202492e-01, 9.96026268e-02, 7.88212818e-01, 8.55450419e-01]],\n",
       "\n",
       "       [[6.78083930e-01, 4.62173332e-01, 8.06458161e-01, 9.35154662e-01],\n",
       "        [9.23853275e-01, 4.50089233e-02, 8.33641123e-01, 9.45613753e-01],\n",
       "        [3.56634000e-01, 8.34393794e-01, 8.28427576e-01, 4.89348492e-01]]])"
      ]
     },
     "execution_count": 60,
     "metadata": {},
     "output_type": "execute_result"
    }
   ],
   "source": [
    "data"
   ]
  },
  {
   "cell_type": "code",
   "execution_count": 62,
   "metadata": {},
   "outputs": [
    {
     "data": {
      "text/plain": [
       "array([[[3.69555550e-01, 4.41463849e-01, 8.01733417e-01, 7.00000000e+02],\n",
       "        [2.69089716e-02, 5.00018320e-02, 3.67918528e-01, 9.66720888e-01],\n",
       "        [9.96026268e-02, 5.11202492e-01, 7.88212818e-01, 8.55450419e-01]],\n",
       "\n",
       "       [[4.62173332e-01, 6.78083930e-01, 8.06458161e-01, 9.35154662e-01],\n",
       "        [4.50089233e-02, 8.33641123e-01, 9.23853275e-01, 9.45613753e-01],\n",
       "        [3.56634000e-01, 4.89348492e-01, 8.28427576e-01, 8.34393794e-01]]])"
      ]
     },
     "execution_count": 62,
     "metadata": {},
     "output_type": "execute_result"
    }
   ],
   "source": [
    "data.sort()\n",
    "data"
   ]
  },
  {
   "cell_type": "code",
   "execution_count": 64,
   "metadata": {},
   "outputs": [
    {
     "name": "stdout",
     "output_type": "stream",
     "text": [
      "(2, 3, 4)\n"
     ]
    }
   ],
   "source": [
    "print(data.shape)"
   ]
  },
  {
   "cell_type": "code",
   "execution_count": 65,
   "metadata": {},
   "outputs": [
    {
     "data": {
      "text/plain": [
       "(2, 2, 6)"
      ]
     },
     "execution_count": 65,
     "metadata": {},
     "output_type": "execute_result"
    }
   ],
   "source": [
    "data = data.reshape((2,2,-1))\n",
    "data.shape"
   ]
  },
  {
   "cell_type": "code",
   "execution_count": 67,
   "metadata": {},
   "outputs": [
    {
     "name": "stdout",
     "output_type": "stream",
     "text": [
      "[0. 0. 0. 0. 0. 0. 0. 0.]\n",
      "[0. 0. 0. 0. 0. 0. 0. 0. 3. 4.]\n"
     ]
    }
   ],
   "source": [
    "zeroes = np.zeros((8))\n",
    "print(zeroes)\n",
    "zeroes = np.append(zeroes, [3,4])\n",
    "print(zeroes)"
   ]
  },
  {
   "cell_type": "code",
   "execution_count": 68,
   "metadata": {},
   "outputs": [
    {
     "name": "stdout",
     "output_type": "stream",
     "text": [
      "[0. 0. 1. 0. 0. 0. 0. 0. 0. 3. 4.]\n"
     ]
    }
   ],
   "source": [
    "zeroes = np.insert(zeroes, 2, 1)\n",
    "print(zeroes)"
   ]
  },
  {
   "cell_type": "markdown",
   "metadata": {},
   "source": [
    "# 4. Delete"
   ]
  },
  {
   "cell_type": "code",
   "execution_count": 69,
   "metadata": {},
   "outputs": [
    {
     "data": {
      "text/plain": [
       "array([[[3.69555550e-01, 4.41463849e-01, 8.01733417e-01, 7.00000000e+02,\n",
       "         2.69089716e-02, 5.00018320e-02],\n",
       "        [3.67918528e-01, 9.66720888e-01, 9.96026268e-02, 5.11202492e-01,\n",
       "         7.88212818e-01, 8.55450419e-01]],\n",
       "\n",
       "       [[4.62173332e-01, 6.78083930e-01, 8.06458161e-01, 9.35154662e-01,\n",
       "         4.50089233e-02, 8.33641123e-01],\n",
       "        [9.23853275e-01, 9.45613753e-01, 3.56634000e-01, 4.89348492e-01,\n",
       "         8.28427576e-01, 8.34393794e-01]]])"
      ]
     },
     "execution_count": 69,
     "metadata": {},
     "output_type": "execute_result"
    }
   ],
   "source": [
    "data"
   ]
  },
  {
   "cell_type": "code",
   "execution_count": 70,
   "metadata": {},
   "outputs": [
    {
     "data": {
      "text/plain": [
       "array([[[0.36791853, 0.96672089, 0.09960263, 0.51120249, 0.78821282,\n",
       "         0.85545042]],\n",
       "\n",
       "       [[0.92385328, 0.94561375, 0.356634  , 0.48934849, 0.82842758,\n",
       "         0.83439379]]])"
      ]
     },
     "execution_count": 70,
     "metadata": {},
     "output_type": "execute_result"
    }
   ],
   "source": [
    "np.delete(data, 0, axis=1)"
   ]
  },
  {
   "cell_type": "code",
   "execution_count": 71,
   "metadata": {},
   "outputs": [],
   "source": [
    "np.save(\"new array\", data)"
   ]
  },
  {
   "cell_type": "code",
   "execution_count": 72,
   "metadata": {},
   "outputs": [],
   "source": [
    "test = np.load(\"new array.npy\")"
   ]
  },
  {
   "cell_type": "code",
   "execution_count": 73,
   "metadata": {},
   "outputs": [
    {
     "data": {
      "text/plain": [
       "array([[[3.69555550e-01, 4.41463849e-01, 8.01733417e-01, 7.00000000e+02,\n",
       "         2.69089716e-02, 5.00018320e-02],\n",
       "        [3.67918528e-01, 9.66720888e-01, 9.96026268e-02, 5.11202492e-01,\n",
       "         7.88212818e-01, 8.55450419e-01]],\n",
       "\n",
       "       [[4.62173332e-01, 6.78083930e-01, 8.06458161e-01, 9.35154662e-01,\n",
       "         4.50089233e-02, 8.33641123e-01],\n",
       "        [9.23853275e-01, 9.45613753e-01, 3.56634000e-01, 4.89348492e-01,\n",
       "         8.28427576e-01, 8.34393794e-01]]])"
      ]
     },
     "execution_count": 73,
     "metadata": {},
     "output_type": "execute_result"
    }
   ],
   "source": [
    "test"
   ]
  },
  {
   "cell_type": "code",
   "execution_count": null,
   "metadata": {},
   "outputs": [],
   "source": []
  }
 ],
 "metadata": {
  "kernelspec": {
   "display_name": "Python 3",
   "language": "python",
   "name": "python3"
  },
  "language_info": {
   "codemirror_mode": {
    "name": "ipython",
    "version": 3
   },
   "file_extension": ".py",
   "mimetype": "text/x-python",
   "name": "python",
   "nbconvert_exporter": "python",
   "pygments_lexer": "ipython3",
   "version": "3.7.4"
  }
 },
 "nbformat": 4,
 "nbformat_minor": 2
}
